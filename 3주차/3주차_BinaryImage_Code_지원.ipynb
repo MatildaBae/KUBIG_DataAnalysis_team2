{
 "cells": [
  {
   "cell_type": "code",
   "execution_count": null,
   "id": "098f6590",
   "metadata": {},
   "outputs": [],
   "source": [
    "import numpy as np\n",
    "np.random.seed(20240327)\n",
    "\n",
    "import tensorflow as tf\n",
    "tf.set_random_seed(20240327)\n",
    "\n",
    "# Hide TF warnings about allocation\n",
    "import os\n",
    "os.environ['TF_CPP_MIN_LOG_LEVEL'] = '3'\n",
    "\n",
    "# An image clearing dependencies\n",
    "from skimage.restoration import (denoise_tv_chambolle, \n",
    "                                 denoise_bilateral,\n",
    "                                denoise_wavelet,\n",
    "                                estimate_sigma,\n",
    "                                denoise_tv_bregman,\n",
    "                                denoise_nl_means)\n",
    "from skimage.filters import gaussian\n",
    "from skiamge.color import rgb2gray\n",
    "\n",
    "# Data reading and visualization\n",
    "import pandas as pd\n",
    "import matplotlib.pyplot as plt\n",
    "%matplotlib inline\n",
    "from sklearn.preprocessing import MinMaxScaler\n",
    "\n",
    "# Training part\n",
    "from keras.layers import Conv2D, MaxPooling2D, Dense, Dropout, Input, Flatten, GlobalAverabePooling2D, Lambda\n",
    "from keras.layers import GlobalMaxPooling2D\n",
    "from keras.layers.normalization import BatchNormalization\n",
    "from keras.layers.merge import Concatenate\n",
    "from keras.models import Model\n",
    "from keras.optimizers import ModelCheckpoint, Callback, EarlyStopping\n",
    "from sklearn.model_selection import train_test_split\n",
    "from sklearn.utils import shuffle\n",
    "from keras.preprocessing.image import ImageDataGenerator"
   ]
  },
  {
   "cell_type": "code",
   "execution_count": null,
   "id": "e42ed905",
   "metadata": {},
   "outputs": [],
   "source": [
    "# Translate data to an image format\n",
    "def color_composite(data) :\n",
    "    rgb_arrays = []"
   ]
  }
 ],
 "metadata": {
  "kernelspec": {
   "display_name": "Python 3 (ipykernel)",
   "language": "python",
   "name": "python3"
  },
  "language_info": {
   "codemirror_mode": {
    "name": "ipython",
    "version": 3
   },
   "file_extension": ".py",
   "mimetype": "text/x-python",
   "name": "python",
   "nbconvert_exporter": "python",
   "pygments_lexer": "ipython3",
   "version": "3.9.13"
  }
 },
 "nbformat": 4,
 "nbformat_minor": 5
}
